{
 "cells": [
  {
   "cell_type": "markdown",
   "id": "4283dc15",
   "metadata": {},
   "source": [
    "# Friedman Function\n",
    "\n",
    "To train and benchmark each MLP, we use a Friedman function, specifically the one proposed in this [1979 paper on nonparametric regression](https://www.slac.stanford.edu/pubs/slacpubs/2250/slac-pub-2336.pdf).\n",
    "The inputs $\\mathbf{x} \\in [0, 1]^6$ lie within a unit hypercube, and the response noise $\\epsilon \\sim \\mathcal{N}(0, 1)$ follows a standard normal distribution.\n",
    "Note that $x_6$ serves solely as input noise, as its coefficient is zero.\n",
    "The response is defined as\n",
    "\n",
    "$$\n",
    "y = 10 \\sin(\\pi x_1 x_2) + 20 (x_3 - 0.5)^2 + 10 x_4 + 5 x_5 + 0 x_6 + \\epsilon,\n",
    "$$\n",
    "\n",
    "and is later scaled by a factor of $0.2$, resulting in approximately unit variance.\n",
    "This helps with convergence and metric interpretability."
   ]
  },
  {
   "cell_type": "code",
   "execution_count": 1,
   "id": "992f8063",
   "metadata": {},
   "outputs": [],
   "source": [
    "import numpy as np\n",
    "import pandas as pd"
   ]
  },
  {
   "cell_type": "code",
   "execution_count": 2,
   "id": "230391d3",
   "metadata": {},
   "outputs": [],
   "source": [
    "def generate_friedman(samples: int, path: str) -> None:\n",
    "    X = np.random.rand(6, samples)\n",
    "    y = (\n",
    "        10 * np.sin(np.pi * X[0] * X[1])\n",
    "        + 20 * (X[2] - 0.5) ** 2\n",
    "        + 10 * X[3]\n",
    "        + 5 * X[4]\n",
    "        + np.random.randn(samples)\n",
    "    ).reshape(-1, 1)\n",
    "    y *= 0.2\n",
    "\n",
    "    print(f\"{path.split('.')[0]} response variance: {y.var(ddof=1):.6f}\")\n",
    "\n",
    "    data = np.concatenate([X.T, y], axis=-1)\n",
    "    columns = [f\"x_{i + 1}\" for i in range(6)] + [\"y\"]\n",
    "    pd.DataFrame(data, columns=columns).to_csv(path, index=False)"
   ]
  },
  {
   "cell_type": "code",
   "execution_count": 3,
   "id": "4dd58d3b",
   "metadata": {},
   "outputs": [
    {
     "name": "stdout",
     "output_type": "stream",
     "text": [
      "train response variance: 1.017834\n",
      "test response variance: 0.925737\n"
     ]
    }
   ],
   "source": [
    "np.random.seed(42)\n",
    "generate_friedman(samples=8_000, path=\"train.csv\")\n",
    "generate_friedman(samples=2_000, path=\"test.csv\")"
   ]
  }
 ],
 "metadata": {
  "kernelspec": {
   "display_name": "polymlp",
   "language": "python",
   "name": "python3"
  },
  "language_info": {
   "codemirror_mode": {
    "name": "ipython",
    "version": 3
   },
   "file_extension": ".py",
   "mimetype": "text/x-python",
   "name": "python",
   "nbconvert_exporter": "python",
   "pygments_lexer": "ipython3",
   "version": "3.13.7"
  }
 },
 "nbformat": 4,
 "nbformat_minor": 5
}
